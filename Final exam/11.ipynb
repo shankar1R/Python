{
 "cells": [
  {
   "cell_type": "markdown",
   "metadata": {},
   "source": [
    "# 1. Write a python program to print the matrix of 4 x 4 using List.\n"
   ]
  },
  {
   "cell_type": "code",
   "execution_count": 1,
   "metadata": {},
   "outputs": [
    {
     "name": "stdout",
     "output_type": "stream",
     "text": [
      "[1, 2, 3, 4]\n",
      "[5, 6, 7, 8]\n",
      "[9, 10, 11, 12]\n",
      "[13, 14, 15, 16]\n"
     ]
    }
   ],
   "source": [
    "# Define a 4x4 matrix using a list of lists\n",
    "matrix = [\n",
    "    [1, 2, 3, 4],\n",
    "    [5, 6, 7, 8],\n",
    "    [9, 10, 11, 12],\n",
    "    [13, 14, 15, 16]\n",
    "]\n",
    "\n",
    "# Print the matrix\n",
    "for row in matrix:\n",
    "    print(row)\n"
   ]
  },
  {
   "cell_type": "markdown",
   "metadata": {},
   "source": [
    "# 2. Find the python program to find the odd numbers in the list of numbers entered by user"
   ]
  },
  {
   "cell_type": "code",
   "execution_count": 10,
   "metadata": {},
   "outputs": [
    {
     "name": "stdout",
     "output_type": "stream",
     "text": [
      "Odd numbers in the list: [11]\n"
     ]
    }
   ],
   "source": [
    "# Input: Get a list of numbers from the user\n",
    "num_list = input(\"Enter a list of numbers separated by spaces: \").split()\n",
    "\n",
    "# Convert the input to a list of integers\n",
    "num_list = [int(num) for num in num_list]\n",
    "\n",
    "# Initialize an empty list to store odd numbers\n",
    "odd_numbers = []\n",
    "\n",
    "# Iterate through the list and check for odd numbers\n",
    "for num in num_list:\n",
    "    if num % 2 != 0:\n",
    "        odd_numbers.append(num)\n",
    "\n",
    "# Print the odd numbers\n",
    "if odd_numbers:\n",
    "    print(\"Odd numbers in the list:\", odd_numbers)\n",
    "else:\n",
    "    print(\"No odd numbers found in the list.\")\n"
   ]
  },
  {
   "cell_type": "markdown",
   "metadata": {},
   "source": [
    "# 3. Write a python & create a class named Employee with attributes name, position, and salary. Write a\n",
    "# method to calculate the annual salary of the employee.\n"
   ]
  },
  {
   "cell_type": "code",
   "execution_count": 22,
   "metadata": {},
   "outputs": [
    {
     "name": "stdout",
     "output_type": "stream",
     "text": [
      "John Doe is a Manager with an annual salary of $60000.00\n"
     ]
    }
   ],
   "source": [
    "class Employee:\n",
    "    def __init__(self, name, position, salary):\n",
    "        self.name = name\n",
    "        self.position = position\n",
    "        self.salary = salary\n",
    "\n",
    "    def calculate_annual_salary(self):\n",
    "        annual_salary = self.salary * 12\n",
    "        return annual_salary\n",
    "\n",
    "# Create an Employee instance\n",
    "employee1 = Employee(\"John Doe\", \"Manager\", 5000)\n",
    "\n",
    "# Calculate the annual salary\n",
    "annual_salary = employee1.calculate_annual_salary()\n",
    "\n",
    "# Print the employee's information\n",
    "print(f\"{employee1.name} is a {employee1.position} with an annual salary of ${annual_salary:.2f}\")\n"
   ]
  },
  {
   "cell_type": "markdown",
   "metadata": {},
   "source": [
    "# 9. Write a Python Program to Multiply Two Matrices and check resultant matrix order.\n"
   ]
  },
  {
   "cell_type": "code",
   "execution_count": 23,
   "metadata": {},
   "outputs": [
    {
     "name": "stdout",
     "output_type": "stream",
     "text": [
      "Resultant Matrix Order: 2x2\n",
      "[58, 64]\n",
      "[139, 154]\n"
     ]
    }
   ],
   "source": [
    "# Function to perform matrix multiplication\n",
    "def multiply_matrices(matrix1, matrix2):\n",
    "    # Get the dimensions of the matrices\n",
    "    rows1, cols1 = len(matrix1), len(matrix1[0])\n",
    "    rows2, cols2 = len(matrix2), len(matrix2[0])\n",
    "\n",
    "    # Check if matrix multiplication is possible\n",
    "    if cols1 != rows2:\n",
    "        return None  # Multiplication not possible, return None\n",
    "\n",
    "    # Initialize the resultant matrix with zeros\n",
    "    result = [[0 for _ in range(cols2)] for _ in range(rows1)]\n",
    "\n",
    "    # Perform matrix multiplication\n",
    "    for i in range(rows1):\n",
    "        for j in range(cols2):\n",
    "            for k in range(cols1):\n",
    "                result[i][j] += matrix1[i][k] * matrix2[k][j]\n",
    "\n",
    "    return result\n",
    "\n",
    "# Define two matrices (adjust dimensions as needed)\n",
    "matrix1 = [\n",
    "    [1, 2, 3],\n",
    "    [4, 5, 6]\n",
    "]\n",
    "\n",
    "matrix2 = [\n",
    "    [7, 8],\n",
    "    [9, 10],\n",
    "    [11, 12]\n",
    "]\n",
    "\n",
    "# Multiply the matrices\n",
    "resultant_matrix = multiply_matrices(matrix1, matrix2)\n",
    "\n",
    "# Check the order of the resultant matrix\n",
    "if resultant_matrix is not None:\n",
    "    rows_result, cols_result = len(resultant_matrix), len(resultant_matrix[0])\n",
    "    print(f\"Resultant Matrix Order: {rows_result}x{cols_result}\")\n",
    "    for row in resultant_matrix:\n",
    "        print(row)\n",
    "else:\n",
    "    print(\"Matrix multiplication is not possible due to incompatible dimensions.\")\n"
   ]
  },
  {
   "cell_type": "markdown",
   "metadata": {},
   "source": [
    "# 7. Write a python program to convert colored image to grayscale and rotate it in clockwise 45 degrees\n",
    "using opencv.\n"
   ]
  },
  {
   "cell_type": "code",
   "execution_count": 32,
   "metadata": {},
   "outputs": [],
   "source": [
    "import cv2\n",
    "import numpy as np\n",
    "\n",
    "# Load the colored image\n",
    "image = cv2.imread(r'E:\\research\\wallpapersden.com_the-age-of-ai-poster_wxl.jpg')\n",
    "\n",
    "# Check if the image is loaded successfully\n",
    "if image is None:\n",
    "    print(\"Error: Image not found.\")\n",
    "else:\n",
    "    # Convert the colored image to grayscale\n",
    "    grayscale_image = cv2.cvtColor(image, cv2.COLOR_BGR2GRAY)\n",
    "\n",
    "    # Get the height and width of the image\n",
    "    height, width = grayscale_image.shape[:2]\n",
    "\n",
    "    # Define the rotation matrix for a 45-degree clockwise rotation\n",
    "    rotation_matrix = cv2.getRotationMatrix2D((width / 2, height / 2), 45, 1)\n",
    "\n",
    "    # Apply the rotation to the grayscale image\n",
    "    rotated_image = cv2.warpAffine(grayscale_image, rotation_matrix, (width, height))\n",
    "\n",
    "    # Display the grayscale and rotated image\n",
    "    cv2.imshow('Grayscale Image', grayscale_image)\n",
    "    cv2.imshow('Rotated Image', rotated_image)\n",
    "\n",
    "    # Save the rotated image\n",
    "    cv2.imwrite('rotated_image.jpg', rotated_image)\n",
    "\n",
    "    # Wait for a key press and then close the windows\n",
    "    cv2.waitKey(0)\n",
    "    cv2.destroyAllWindows()\n"
   ]
  }
 ],
 "metadata": {
  "kernelspec": {
   "display_name": "base",
   "language": "python",
   "name": "python3"
  },
  "language_info": {
   "codemirror_mode": {
    "name": "ipython",
    "version": 3
   },
   "file_extension": ".py",
   "mimetype": "text/x-python",
   "name": "python",
   "nbconvert_exporter": "python",
   "pygments_lexer": "ipython3",
   "version": "3.9.13"
  },
  "orig_nbformat": 4
 },
 "nbformat": 4,
 "nbformat_minor": 2
}
