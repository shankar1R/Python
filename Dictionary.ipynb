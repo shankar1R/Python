{
 "cells": [
  {
   "cell_type": "markdown",
   "metadata": {},
   "source": [
    "# Dictionary in python"
   ]
  },
  {
   "cell_type": "markdown",
   "metadata": {},
   "source": [
    "# Dictionary in python  it can use it for storing the data in this format(key,value)"
   ]
  },
  {
   "cell_type": "markdown",
   "metadata": {},
   "source": [
    "# Dictionary is inmutabel "
   ]
  },
  {
   "cell_type": "code",
   "execution_count": 16,
   "metadata": {},
   "outputs": [
    {
     "data": {
      "text/plain": [
       "{1: 'Shankar', 2: 'kiran', 3: 'Rahul'}"
      ]
     },
     "execution_count": 16,
     "metadata": {},
     "output_type": "execute_result"
    }
   ],
   "source": [
    "Dict={} # dictionary represnt the curly bracates\n",
    "\n",
    "Dict={1:\"Shankar\",2:\"kiran\",3:\"Rahul\"}\n",
    "Dict"
   ]
  },
  {
   "cell_type": "code",
   "execution_count": 17,
   "metadata": {},
   "outputs": [
    {
     "data": {
      "text/plain": [
       "'kiran'"
      ]
     },
     "execution_count": 17,
     "metadata": {},
     "output_type": "execute_result"
    }
   ],
   "source": [
    "# Accessing key\n",
    "\n",
    "Dict[2] # using index access the value\n",
    "\n",
    "\n",
    "# Dict[4] KeyError: 4"
   ]
  },
  {
   "cell_type": "markdown",
   "metadata": {},
   "source": [
    "# get"
   ]
  },
  {
   "cell_type": "code",
   "execution_count": 26,
   "metadata": {},
   "outputs": [
    {
     "name": "stdout",
     "output_type": "stream",
     "text": [
      "None\n",
      "notfound\n"
     ]
    }
   ],
   "source": [
    "Dict.get(1) # access the value using  index\n",
    "Dict.get(3)\n",
    "\n",
    "print(Dict.get(4)) # it print none)\n",
    "\n",
    "# Dict.get(1.\"not found\")SyntaxError: invalid syntax\n",
    "\n",
    "print(Dict.get(4,\"notfound\")) "
   ]
  },
  {
   "cell_type": "code",
   "execution_count": 87,
   "metadata": {},
   "outputs": [],
   "source": [
    "# keys=[\"Shankar\",\"Kiran\"]\n",
    "# value=[\"Python\",\"C\"]\n",
    "# Data=dict(zip(keys,value))\n",
    "#Data\n",
    "\n",
    "# this code run in python idle"
   ]
  },
  {
   "cell_type": "code",
   "execution_count": 102,
   "metadata": {},
   "outputs": [
    {
     "data": {
      "text/plain": [
       "'Python'"
      ]
     },
     "execution_count": 102,
     "metadata": {},
     "output_type": "execute_result"
    }
   ],
   "source": [
    "Data={\"Shankar\":\"Python\",\"Ravi\":\"C\"}\n",
    "\n",
    "Data[\"Ravi\"]\n",
    "Data[\"Shankar\"] # accessing the value using key"
   ]
  },
  {
   "cell_type": "markdown",
   "metadata": {},
   "source": [
    "# del"
   ]
  },
  {
   "cell_type": "code",
   "execution_count": 106,
   "metadata": {},
   "outputs": [
    {
     "name": "stdout",
     "output_type": "stream",
     "text": [
      "{'Shankar': 'Python'}\n"
     ]
    }
   ],
   "source": [
    "Data={\"Shankar\":\"Python\",\"Ravi\":\"C\"}\n",
    "\n",
    "del Data[\"Ravi\"] # Delet the Ravi data\n",
    "print(Data)\n",
    "\n"
   ]
  },
  {
   "cell_type": "markdown",
   "metadata": {},
   "source": [
    "# Nested Dictionary"
   ]
  },
  {
   "cell_type": "code",
   "execution_count": 115,
   "metadata": {},
   "outputs": [
    {
     "data": {
      "text/plain": [
       "'Sublim'"
      ]
     },
     "execution_count": 115,
     "metadata": {},
     "output_type": "execute_result"
    }
   ],
   "source": [
    "prog={\"JS\":\"Atom\",\"CS\":\"VS\",\"Python\":[\"Pycharm\",\"Sublim\"],\"JAVA\":{\"JSE\":\"Netbeans\",\"JEE\":\"EClIPSE\"}}\n",
    "prog\n",
    "\n",
    "prog[\"JS\"]\n",
    "\n",
    "prog[\"JAVA\"][\"JEE\"]\n",
    "\n",
    "prog[\"Python\"][1]"
   ]
  }
 ],
 "metadata": {
  "kernelspec": {
   "display_name": "base",
   "language": "python",
   "name": "python3"
  },
  "language_info": {
   "codemirror_mode": {
    "name": "ipython",
    "version": 3
   },
   "file_extension": ".py",
   "mimetype": "text/x-python",
   "name": "python",
   "nbconvert_exporter": "python",
   "pygments_lexer": "ipython3",
   "version": "3.9.13"
  },
  "orig_nbformat": 4
 },
 "nbformat": 4,
 "nbformat_minor": 2
}
