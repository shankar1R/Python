{
 "cells": [
  {
   "cell_type": "markdown",
   "metadata": {},
   "source": [
    "# anonymous Fuction lambda in python "
   ]
  },
  {
   "cell_type": "code",
   "execution_count": 1,
   "metadata": {},
   "outputs": [
    {
     "name": "stdout",
     "output_type": "stream",
     "text": [
      "36\n"
     ]
    }
   ],
   "source": [
    "#  without using lambda functon\n",
    "def square(a):\n",
    "    return a*a\n",
    "\n",
    "result=square(6)\n",
    "print(result)"
   ]
  },
  {
   "cell_type": "code",
   "execution_count": 5,
   "metadata": {},
   "outputs": [
    {
     "name": "stdout",
     "output_type": "stream",
     "text": [
      "49\n"
     ]
    }
   ],
   "source": [
    "\n",
    "# with using lambda Fuction\n",
    "f=lambda a:a*a # Multiplication \n",
    "result=(f(7))\n",
    "print(result)"
   ]
  },
  {
   "cell_type": "code",
   "execution_count": 6,
   "metadata": {},
   "outputs": [
    {
     "name": "stdout",
     "output_type": "stream",
     "text": [
      "16\n"
     ]
    }
   ],
   "source": [
    "f=lambda a,b:a+b # addition\n",
    "result=(f(7,9))\n",
    "print(result)"
   ]
  },
  {
   "cell_type": "markdown",
   "metadata": {},
   "source": [
    "# using Lambda 1: Filter,2:map,3:reduce"
   ]
  },
  {
   "cell_type": "markdown",
   "metadata": {},
   "source": [
    "# Filter Function"
   ]
  },
  {
   "cell_type": "code",
   "execution_count": 9,
   "metadata": {},
   "outputs": [
    {
     "name": "stdout",
     "output_type": "stream",
     "text": [
      "[12, 8, 96, 2, 4, 6, 28]\n",
      "[12, 8, 96, 2, 4, 6, 28]\n"
     ]
    }
   ],
   "source": [
    "def is_even(n):\n",
    "    return n%2==0\n",
    "\n",
    "nums=[12,45,8,96,35,2,4,7,6,28,7,3,1]\n",
    "evens1=list(filter(is_even,nums))\n",
    "evens2=list(filter(lambda n: n%2==0,nums)) # using lambda\n",
    "print(evens1)\n",
    "print(evens2)"
   ]
  },
  {
   "cell_type": "markdown",
   "metadata": {},
   "source": [
    "# Map Function"
   ]
  },
  {
   "cell_type": "code",
   "execution_count": 11,
   "metadata": {},
   "outputs": [
    {
     "name": "stdout",
     "output_type": "stream",
     "text": [
      "[12, 8, 96, 2, 4, 6, 28]\n",
      "[14, 10, 98, 4, 6, 8, 30]\n"
     ]
    }
   ],
   "source": [
    "\n",
    "\n",
    "nums=[12,45,8,96,35,2,4,7,6,28,7,3,1]\n",
    "evens2=list(filter(lambda n: n%2==0,nums)) # using lambda\n",
    "doubels=list(map(lambda n: n+2,evens2))\n",
    "\n",
    "print(evens2)\n",
    "print(doubels)\n",
    "\n"
   ]
  },
  {
   "cell_type": "markdown",
   "metadata": {},
   "source": [
    "# Redduce fuction"
   ]
  },
  {
   "cell_type": "code",
   "execution_count": 13,
   "metadata": {},
   "outputs": [
    {
     "name": "stdout",
     "output_type": "stream",
     "text": [
      "[12, 8, 96, 2, 4, 6, 28]\n",
      "[14, 10, 98, 4, 6, 8, 30]\n",
      "170\n"
     ]
    }
   ],
   "source": [
    "from functools import reduce\n",
    "nums=[12,45,8,96,35,2,4,7,6,28,7,3,1]\n",
    "evens2=list(filter(lambda n: n%2==0,nums)) # using lambda\n",
    "doubels=list(map(lambda n: n+2,evens2))\n",
    "sum=reduce(lambda a,b:a+b,doubels)\n",
    "\n",
    "print(evens2)\n",
    "print(doubels)\n",
    "print(sum)"
   ]
  },
  {
   "cell_type": "markdown",
   "metadata": {},
   "source": [
    "# Decoraters in python"
   ]
  },
  {
   "cell_type": "markdown",
   "metadata": {},
   "source": [
    "decoraters=youm can add  extra futures in the existing function"
   ]
  },
  {
   "cell_type": "code",
   "execution_count": 17,
   "metadata": {},
   "outputs": [
    {
     "name": "stdout",
     "output_type": "stream",
     "text": [
      "2.0\n",
      "None\n",
      "None\n"
     ]
    }
   ],
   "source": [
    "def div(a,b):\n",
    "    print(print(a/b))\n",
    "\n",
    "def smart_div(func):\n",
    "    def inner(a,b):\n",
    "        a,b=b,a\n",
    "        return func(a,b)\n",
    "    return inner\n",
    "\n",
    "div=smart_div(div)\n",
    "print(div(2,4))"
   ]
  }
 ],
 "metadata": {
  "kernelspec": {
   "display_name": "base",
   "language": "python",
   "name": "python3"
  },
  "language_info": {
   "codemirror_mode": {
    "name": "ipython",
    "version": 3
   },
   "file_extension": ".py",
   "mimetype": "text/x-python",
   "name": "python",
   "nbconvert_exporter": "python",
   "pygments_lexer": "ipython3",
   "version": "3.9.13"
  },
  "orig_nbformat": 4
 },
 "nbformat": 4,
 "nbformat_minor": 2
}
