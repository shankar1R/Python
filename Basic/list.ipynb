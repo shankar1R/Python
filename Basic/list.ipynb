{
 "cells": [
  {
   "cell_type": "markdown",
   "metadata": {},
   "source": [
    "# list in python"
   ]
  },
  {
   "cell_type": "markdown",
   "metadata": {},
   "source": [
    " # list is mutabel"
   ]
  },
  {
   "cell_type": "code",
   "execution_count": 46,
   "metadata": {},
   "outputs": [
    {
     "data": {
      "text/plain": [
       "[[12, 45, 78, 69, 36], ['shankar', 'ravi', 'Samarth']]"
      ]
     },
     "execution_count": 46,
     "metadata": {},
     "output_type": "execute_result"
    }
   ],
   "source": [
    "num=[] # list represent with [] brackets\n",
    "\n",
    "num=[12,45,78,69,36]\n",
    "\n",
    "num[0]\n",
    "\n",
    "num[4] # Access the value usind index number\n",
    "\n",
    "# num[23] IndexError: list index out of range\n",
    "\n",
    "num[2:] # start with 2th index \n",
    "\n",
    "num[-1]\n",
    "num[-5] # access the value in the Reverse  order\n",
    "\n",
    "names=[\"shankar\",\"ravi\",\"Samarth\"]\n",
    "names\n",
    "\n",
    "mil=[num,names]  # attach the two lists\n",
    "mil\n",
    "\n",
    "\n"
   ]
  },
  {
   "cell_type": "markdown",
   "metadata": {},
   "source": [
    "# append"
   ]
  },
  {
   "cell_type": "code",
   "execution_count": null,
   "metadata": {},
   "outputs": [],
   "source": [
    "\n",
    "num.append(53 ) # add the only one  value to the list using (append ) Functiion\n",
    "num"
   ]
  },
  {
   "cell_type": "markdown",
   "metadata": {},
   "source": [
    "# insert"
   ]
  },
  {
   "cell_type": "code",
   "execution_count": null,
   "metadata": {},
   "outputs": [],
   "source": [
    "\n",
    "num.insert(2,77) #  Add the multiple value to the list\n",
    "num"
   ]
  },
  {
   "cell_type": "markdown",
   "metadata": {},
   "source": [
    "# remove"
   ]
  },
  {
   "cell_type": "code",
   "execution_count": null,
   "metadata": {},
   "outputs": [],
   "source": [
    "\n",
    "\n",
    "num.remove(36) # remove the only one value\n",
    "num"
   ]
  },
  {
   "cell_type": "markdown",
   "metadata": {},
   "source": [
    "\n",
    "# pop "
   ]
  },
  {
   "cell_type": "markdown",
   "metadata": {},
   "source": []
  },
  {
   "cell_type": "code",
   "execution_count": null,
   "metadata": {},
   "outputs": [],
   "source": [
    "\n",
    "num.pop(2) # in this pop Function delet selecting  idex  value\n",
    "num\n",
    "\n",
    "\n",
    "num.pop() # in this pop Function delet the last value\n",
    "num\n"
   ]
  },
  {
   "cell_type": "markdown",
   "metadata": {},
   "source": [
    "# del"
   ]
  },
  {
   "cell_type": "code",
   "execution_count": null,
   "metadata": {},
   "outputs": [],
   "source": [
    "\n",
    "\n",
    "del num[2:] # delet the value from 2th index\n",
    "num \n"
   ]
  },
  {
   "cell_type": "markdown",
   "metadata": {},
   "source": [
    "# extend"
   ]
  },
  {
   "cell_type": "code",
   "execution_count": null,
   "metadata": {},
   "outputs": [],
   "source": [
    "\n",
    "# num.extend(12,23,34,45)   TypeError: list.extend() takes exactly one argument (4 given)\n",
    "\n",
    "num.extend([12,23,34,45])  # extend take only one value and in one list\n",
    "num"
   ]
  },
  {
   "cell_type": "markdown",
   "metadata": {},
   "source": [
    "# min and  max"
   ]
  },
  {
   "cell_type": "code",
   "execution_count": null,
   "metadata": {},
   "outputs": [],
   "source": [
    "\n",
    "min(num) # Find the minmum value\n",
    "\n",
    "\n",
    "max(num) # Find the maximum value\n"
   ]
  },
  {
   "cell_type": "markdown",
   "metadata": {},
   "source": [
    "# sum and  sort"
   ]
  },
  {
   "cell_type": "code",
   "execution_count": null,
   "metadata": {},
   "outputs": [],
   "source": [
    "\n",
    "\n",
    "sum(num) # sum of the (num)\n",
    "\n",
    "\n",
    "print(num)\n",
    "num.sort()\n",
    "num\n"
   ]
  },
  {
   "cell_type": "code",
   "execution_count": 21,
   "metadata": {},
   "outputs": [
    {
     "data": {
      "text/plain": [
       "[25, 36, 26]"
      ]
     },
     "execution_count": 21,
     "metadata": {},
     "output_type": "execute_result"
    }
   ],
   "source": [
    "# Quatation\n",
    "num=[25,36,95,14,12,26]\n",
    "# how to delet values (95,14,12)?\n",
    "num.remove(95)\n",
    "num.remove(14)\n",
    "num.remove(12)\n",
    "\n",
    "num"
   ]
  }
 ],
 "metadata": {
  "kernelspec": {
   "display_name": "base",
   "language": "python",
   "name": "python3"
  },
  "language_info": {
   "codemirror_mode": {
    "name": "ipython",
    "version": 3
   },
   "file_extension": ".py",
   "mimetype": "text/x-python",
   "name": "python",
   "nbconvert_exporter": "python",
   "pygments_lexer": "ipython3",
   "version": "3.9.13"
  },
  "orig_nbformat": 4
 },
 "nbformat": 4,
 "nbformat_minor": 2
}
