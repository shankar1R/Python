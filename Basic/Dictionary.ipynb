{
 "cells": [
  {
   "cell_type": "markdown",
   "metadata": {},
   "source": [
    "# Dictionary in python"
   ]
  },
  {
   "cell_type": "markdown",
   "metadata": {},
   "source": [
    "# Dictionary in python  it can use it for storing the data in this format(key,value)"
   ]
  },
  {
   "cell_type": "markdown",
   "metadata": {},
   "source": [
    "# Dictionary is inmutabel "
   ]
  },
  {
   "cell_type": "code",
   "execution_count": 11,
   "metadata": {},
   "outputs": [
    {
     "data": {
      "text/plain": [
       "{2: 'kiran', 3: 'Rahul'}"
      ]
     },
     "execution_count": 11,
     "metadata": {},
     "output_type": "execute_result"
    }
   ],
   "source": [
    "Dict={} # dictionary represnt the curly bracates\n",
    "\n",
    "Dict={1:\"Shankar\",2:\"kiran\",3:\"Rahul\"}\n",
    "Dict"
   ]
  },
  {
   "cell_type": "code",
   "execution_count": 3,
   "metadata": {},
   "outputs": [
    {
     "data": {
      "text/plain": [
       "'kiran'"
      ]
     },
     "execution_count": 3,
     "metadata": {},
     "output_type": "execute_result"
    }
   ],
   "source": [
    "# Accessing key\n",
    "\n",
    "Dict[2] # using key access the value\n",
    "\n",
    "\n",
    "# Dict[4] KeyError: 4"
   ]
  },
  {
   "cell_type": "markdown",
   "metadata": {},
   "source": [
    "# get"
   ]
  },
  {
   "cell_type": "code",
   "execution_count": 20,
   "metadata": {},
   "outputs": [
    {
     "name": "stdout",
     "output_type": "stream",
     "text": [
      "notfound\n"
     ]
    }
   ],
   "source": [
    "# Dict.get(1) # access the value using key\n",
    "# Dict.get(2)\n",
    "\n",
    "# print(Dict.get(4)) # it print none)\n",
    "\n",
    "Dict.get(1,\"not found\") #SyntaxError: invalid syntax\n",
    "\n",
    "print(Dict.get(4,\"notfound\")) "
   ]
  },
  {
   "cell_type": "code",
   "execution_count": 5,
   "metadata": {},
   "outputs": [],
   "source": [
    "keys=[\"Shankar\",\"Kiran\"]\n",
    "value=[\"Python\",\"C\"]\n",
    "Data=dict(zip(keys,value))\n",
    "Data\n",
    "\n",
    "# this code run in python idle"
   ]
  },
  {
   "cell_type": "code",
   "execution_count": 22,
   "metadata": {},
   "outputs": [
    {
     "data": {
      "text/plain": [
       "'Python'"
      ]
     },
     "execution_count": 22,
     "metadata": {},
     "output_type": "execute_result"
    }
   ],
   "source": [
    "Data={\"Shankar\":\"Python\",\"Ravi\":\"C\"}\n",
    "\n",
    "Data[\"Ravi\"]\n",
    "Data[\"Shankar\"] # accessing the value using key"
   ]
  },
  {
   "cell_type": "markdown",
   "metadata": {},
   "source": [
    "# del"
   ]
  },
  {
   "cell_type": "code",
   "execution_count": 23,
   "metadata": {},
   "outputs": [
    {
     "name": "stdout",
     "output_type": "stream",
     "text": [
      "{'Shankar': 'Python'}\n"
     ]
    }
   ],
   "source": [
    "Data={\"Shankar\":\"Python\",\"Ravi\":\"C\"}\n",
    "\n",
    "del Data[\"Ravi\"] # Delet the Ravi data\n",
    "print(Data)\n",
    "\n"
   ]
  },
  {
   "cell_type": "markdown",
   "metadata": {},
   "source": [
    "# Nested Dictionary"
   ]
  },
  {
   "cell_type": "code",
   "execution_count": 28,
   "metadata": {},
   "outputs": [
    {
     "data": {
      "text/plain": [
       "'Pycharm'"
      ]
     },
     "execution_count": 28,
     "metadata": {},
     "output_type": "execute_result"
    }
   ],
   "source": [
    "prog={\"JS\":\"Atom\",\"CS\":\"VS\",\"Python\":[\"Pycharm\",\"Sublim\"],\"JAVA\":{\"JSE\":\"Netbeans\",\"JEE\":\"EClIPSE\"}}\n",
    "prog\n",
    "\n",
    "prog[\"JS\"]\n",
    "\n",
    "prog[\"JAVA\"][\"JEE\"]\n",
    "\n",
    "prog[\"Python\"][0]"
   ]
  }
 ],
 "metadata": {
  "kernelspec": {
   "display_name": "base",
   "language": "python",
   "name": "python3"
  },
  "language_info": {
   "codemirror_mode": {
    "name": "ipython",
    "version": 3
   },
   "file_extension": ".py",
   "mimetype": "text/x-python",
   "name": "python",
   "nbconvert_exporter": "python",
   "pygments_lexer": "ipython3",
   "version": "3.9.13"
  },
  "orig_nbformat": 4
 },
 "nbformat": 4,
 "nbformat_minor": 2
}
