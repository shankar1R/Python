{
 "cells": [
  {
   "cell_type": "markdown",
   "metadata": {},
   "source": [
    "# variables"
   ]
  },
  {
   "cell_type": "code",
   "execution_count": 23,
   "metadata": {},
   "outputs": [
    {
     "data": {
      "text/plain": [
       "4"
      ]
     },
     "execution_count": 23,
     "metadata": {},
     "output_type": "execute_result"
    }
   ],
   "source": [
    "# variaabels with numberz\n",
    "# x,y is variabels\n",
    "x=1 \n",
    "y=3\n",
    "y\n",
    "\n",
    "# under score reprent the priviouse output\n",
    "_+x "
   ]
  },
  {
   "cell_type": "code",
   "execution_count": 26,
   "metadata": {},
   "outputs": [
    {
     "data": {
      "text/plain": [
       "'youtubeRockers'"
      ]
     },
     "execution_count": 26,
     "metadata": {},
     "output_type": "execute_result"
    }
   ],
   "source": [
    "# variabels with strings\n",
    "\n",
    "name=\"youtube\"\n",
    "\n",
    "name+ \"Rockers\"  # variabels plus value\n",
    "\n",
    "# name \"Rokers\"  (SyntaxError: invalid syntax)\n"
   ]
  },
  {
   "cell_type": "markdown",
   "metadata": {},
   "source": [
    "Fetch the nvalue using variabels "
   ]
  },
  {
   "cell_type": "markdown",
   "metadata": {},
   "source": [
    "# python is inmutabel"
   ]
  },
  {
   "cell_type": "code",
   "execution_count": 56,
   "metadata": {},
   "outputs": [
    {
     "name": "stdout",
     "output_type": "stream",
     "text": [
      "youtube\n",
      "y\n",
      "e\n",
      "Shankar \\n Rocks\n"
     ]
    }
   ],
   "source": [
    "\n",
    "print(name)\n",
    "\n",
    "print(name[0]) # accsing the valuek\n",
    "\n",
    "print(name[6] )\n",
    "\n",
    "# name[8] IndexError: string index out of range\n",
    "\n",
    "name[-1] # reverse order access the value\n",
    "\n",
    "name[-7]\n",
    "\n",
    "name[1:4]  # write 1th insexing to 4 indexing \n",
    "\n",
    "name[1:] # start write with 1 indexing to last indexing part\n",
    "\n",
    "name[:4] # print the value before  the 4rt indexi\n",
    "\n",
    "name[3:10] # start eith 3rd index\n",
    "\n",
    "# name[0:3]= \"my\" TypeError: 'str' object does not support item assignment\n",
    "\n",
    "\"my\" + name[3:]\n",
    "\n",
    "myname=\"shankar ravanaki\"\n",
    "\n",
    "len(myname) # length of the variabels value\n",
    "\n",
    "# Quotation \n",
    "print(r'Shankar \\n Rocks')\n",
    "#Answer (Shankar \\n Rocks)\n"
   ]
  }
 ],
 "metadata": {
  "kernelspec": {
   "display_name": "base",
   "language": "python",
   "name": "python3"
  },
  "language_info": {
   "codemirror_mode": {
    "name": "ipython",
    "version": 3
   },
   "file_extension": ".py",
   "mimetype": "text/x-python",
   "name": "python",
   "nbconvert_exporter": "python",
   "pygments_lexer": "ipython3",
   "version": "3.9.13"
  },
  "orig_nbformat": 4
 },
 "nbformat": 4,
 "nbformat_minor": 2
}
